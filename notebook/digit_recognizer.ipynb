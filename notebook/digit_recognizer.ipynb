{
 "cells": [
  {
   "cell_type": "code",
   "execution_count": 2,
   "id": "d49d38fd",
   "metadata": {},
   "outputs": [],
   "source": [
    "import numpy as np\n",
    "import os"
   ]
  },
  {
   "cell_type": "code",
   "execution_count": 3,
   "id": "18fd5aa3",
   "metadata": {},
   "outputs": [],
   "source": [
    "train_image_path = \"/home/sifat/AI/data/train_image\"\n",
    "train_label_path = \"/home/sifat/AI/data/train_label\"\n",
    "test_image_path = \"/home/sifat/AI/data/test_image\"\n",
    "test_label_path = \"/home/sifat/AI/data/test_label\""
   ]
  },
  {
   "cell_type": "code",
   "execution_count": 4,
   "id": "86995624",
   "metadata": {},
   "outputs": [],
   "source": [
    "# ---- Load MNIST ----\n",
    "def load_images(path):\n",
    "    with open(path, \"rb\") as f:\n",
    "        data = f.read()\n",
    "    magic, num, row, col = np.frombuffer(data[:16], dtype=\">i4\")\n",
    "    if magic != 2051: raise ValueError(\"Invalid image file\")\n",
    "    imgs = np.frombuffer(data[16:], dtype=np.uint8).reshape(num, row*col)\n",
    "    return imgs\n",
    "\n",
    "def load_labels(path):\n",
    "    with open(path, \"rb\") as f:\n",
    "        data = f.read()\n",
    "    magic, num = np.frombuffer(data[:8], dtype=\">i4\")\n",
    "    if magic != 2049: raise ValueError(\"Invalid label file\")\n",
    "    labels = np.frombuffer(data[8:], dtype=np.uint8)\n",
    "    return labels"
   ]
  },
  {
   "cell_type": "code",
   "execution_count": 5,
   "id": "c78ce079",
   "metadata": {},
   "outputs": [],
   "source": [
    "X_train_raw, Y_train_raw = load_images(train_image_path), load_labels(train_label_path)\n",
    "X_test_raw, Y_test_raw = load_images(test_image_path), load_labels(test_label_path)"
   ]
  },
  {
   "cell_type": "code",
   "execution_count": 6,
   "id": "fad023fd",
   "metadata": {},
   "outputs": [],
   "source": [
    "def one_hot(y, num_classes=10):\n",
    "    out = np.zeros((y.shape[0], num_classes))\n",
    "    out[np.arange(y.shape[0]), y] = 1\n",
    "    return out"
   ]
  },
  {
   "cell_type": "code",
   "execution_count": 7,
   "id": "d29de5e9",
   "metadata": {},
   "outputs": [],
   "source": [
    "X_train, X_test = X_train_raw.astype(np.float32)/255.0, X_test_raw.astype(np.float32)/255.0\n",
    "Y_train, Y_test = one_hot(Y_train_raw), one_hot(Y_test_raw)\n",
    "layer_sizes = [784, 728, 512, 256, 128, 64, 32, 10]\n",
    "learning_rate = 0.03"
   ]
  },
  {
   "cell_type": "code",
   "execution_count": null,
   "id": "cacaac36",
   "metadata": {},
   "outputs": [],
   "source": [
    "weights = []\n",
    "biases = []\n",
    "for i in range(len(layer_sizes)-1):\n",
    "    w_file = f\"w{i+1}.npy\"\n",
    "    b_file = f\"b{i+1}.npy\"\n",
    "    if os.path.exists(w_file):\n",
    "        weights.append(np.load(w_file))\n",
    "        biases.append(np.load(b_file))\n",
    "    else:\n",
    "        weights.append(np.random.randn(layer_sizes[i], layer_sizes[i+1]) * np.sqrt(2/layer_sizes[i]))\n",
    "        biases.append(np.zeros(layer_sizes[i+1]))"
   ]
  },
  {
   "cell_type": "code",
   "execution_count": 9,
   "id": "92c1cc29",
   "metadata": {},
   "outputs": [],
   "source": [
    "# ---- Activation functions ----\n",
    "def relu(x): return np.maximum(0, x)\n",
    "def relu_deriv(x): return (x > 0).astype(float)\n",
    "def softmax(x):\n",
    "    x = x - np.max(x, axis=1, keepdims=True)\n",
    "    e = np.exp(x)\n",
    "    return e / np.sum(e, axis=1, keepdims=True)\n",
    "\n",
    "# ---- Forward ----\n",
    "def forward(x):\n",
    "    activations = [x]\n",
    "    pre_activations = []\n",
    "    for i in range(len(weights)-1):\n",
    "        z = activations[-1] @ weights[i] + biases[i]\n",
    "        a = relu(z)\n",
    "        pre_activations.append(z)\n",
    "        activations.append(a)\n",
    "    # Output layer\n",
    "    z = activations[-1] @ weights[-1] + biases[-1]\n",
    "    a = softmax(z)\n",
    "    pre_activations.append(z)\n",
    "    activations.append(a)\n",
    "    return pre_activations, activations\n",
    "\n",
    "# ---- Loss ----\n",
    "def cross_entropy(y_true, y_pred):\n",
    "    eps = 1e-15\n",
    "    y_pred = np.clip(y_pred, eps, 1-eps)\n",
    "    return -np.mean(np.sum(y_true*np.log(y_pred), axis=1))\n",
    "\n",
    "# ---- Backprop ----\n",
    "def train_step(x, y, lr=learning_rate):\n",
    "    global weights, biases\n",
    "    pre_act, act = forward(x)\n",
    "    loss = cross_entropy(y, act[-1])\n",
    "\n",
    "    # Gradients\n",
    "    delta = (act[-1] - y) / x.shape[0]\n",
    "    grad_w = []\n",
    "    grad_b = []\n",
    "\n",
    "    for i in reversed(range(len(weights))):\n",
    "        grad_w.insert(0, act[i].T @ delta)\n",
    "        grad_b.insert(0, np.sum(delta, axis=0))\n",
    "        if i != 0:\n",
    "            delta = (delta @ weights[i].T) * relu_deriv(pre_act[i-1])\n",
    "\n",
    "    # Update weights\n",
    "    for i in range(len(weights)):\n",
    "        weights[i] -= lr * grad_w[i]\n",
    "        biases[i] -= lr * grad_b[i]\n",
    "\n",
    "    return loss\n",
    "\n",
    "# ---- Accuracy ----\n",
    "def accuracy(x, y):\n",
    "    _, act = forward(x)\n",
    "    preds = np.argmax(act[-1], axis=1)\n",
    "    labels = np.argmax(y, axis=1)\n",
    "    return np.mean(preds == labels)\n",
    "\n",
    "# ---- Save model ----\n",
    "def save_model():\n",
    "    for i in range(len(weights)):\n",
    "        np.save(f\"Program/w{i+1}.npy\", weights[i])\n",
    "        np.save(f\"Program/b{i+1}.npy\", biases[i])"
   ]
  },
  {
   "cell_type": "code",
   "execution_count": 14,
   "id": "c9412016",
   "metadata": {},
   "outputs": [
    {
     "name": "stdout",
     "output_type": "stream",
     "text": [
      "Epoch 1/10, Loss: 0.0028, Accuracy: 99.99%\n",
      "Epoch 2/10, Loss: 0.0032, Accuracy: 100.00%\n",
      "Epoch 3/10, Loss: 0.0004, Accuracy: 100.00%\n",
      "Epoch 4/10, Loss: 0.0003, Accuracy: 100.00%\n",
      "Epoch 5/10, Loss: 0.0012, Accuracy: 100.00%\n",
      "Epoch 6/10, Loss: 0.0001, Accuracy: 100.00%\n",
      "Epoch 7/10, Loss: 0.0005, Accuracy: 100.00%\n",
      "Epoch 8/10, Loss: 0.0006, Accuracy: 100.00%\n",
      "Epoch 9/10, Loss: 0.0005, Accuracy: 100.00%\n",
      "Epoch 10/10, Loss: 0.0000, Accuracy: 100.00%\n",
      "Training finished and weights saved! 🔥\n"
     ]
    }
   ],
   "source": [
    "# ---- Training on full MNIST ----\n",
    "epochs = 10\n",
    "batch_size = 64\n",
    "\n",
    "for e in range(epochs):\n",
    "    # Shuffle data\n",
    "    idx = np.random.permutation(X_train.shape[0])\n",
    "    X_train_shuffled = X_train[idx]\n",
    "    Y_train_shuffled = Y_train[idx]\n",
    "\n",
    "    for i in range(0, X_train.shape[0], batch_size):\n",
    "        X_batch = X_train_shuffled[i:i+batch_size]\n",
    "        Y_batch = Y_train_shuffled[i:i+batch_size]\n",
    "        loss = train_step(X_batch, Y_batch, lr=0.03)\n",
    "\n",
    "    acc = accuracy(X_train, Y_train)\n",
    "    print(f\"Epoch {e+1}/{epochs}, Loss: {loss:.4f}, Accuracy: {acc*100:.2f}%\")\n",
    "\n",
    "# ---- Save all weights and biases after training ----\n",
    "for i in range(len(weights)):\n",
    "    np.save(f\"w{i+1}.npy\", weights[i])\n",
    "    np.save(f\"b{i+1}.npy\", biases[i])\n",
    "\n",
    "print(\"Training finished and weights saved! 🔥\")\n"
   ]
  },
  {
   "cell_type": "code",
   "execution_count": 15,
   "id": "3e0f307e",
   "metadata": {},
   "outputs": [
    {
     "name": "stdout",
     "output_type": "stream",
     "text": [
      "Test accuracy is: 98.14%\n"
     ]
    }
   ],
   "source": [
    "test_acc = accuracy(X_test, Y_test)\n",
    "print(f\"Test accuracy is: {test_acc*100:.2f}%\")"
   ]
  }
 ],
 "metadata": {
  "kernelspec": {
   "display_name": "Python 3",
   "language": "python",
   "name": "python3"
  },
  "language_info": {
   "codemirror_mode": {
    "name": "ipython",
    "version": 3
   },
   "file_extension": ".py",
   "mimetype": "text/x-python",
   "name": "python",
   "nbconvert_exporter": "python",
   "pygments_lexer": "ipython3",
   "version": "3.13.7"
  }
 },
 "nbformat": 4,
 "nbformat_minor": 5
}
